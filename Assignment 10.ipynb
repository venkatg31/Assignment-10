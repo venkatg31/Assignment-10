{
 "cells": [
  {
   "cell_type": "markdown",
   "metadata": {},
   "source": [
    "# <center> Assignment - 10\n",
    "### <center> <b> Task - 1   "
   ]
  },
  {
   "cell_type": "code",
   "execution_count": 1,
   "metadata": {},
   "outputs": [],
   "source": [
    "import numpy as np\n",
    "from scipy import stats\n",
    "from math import sqrt\n",
    "import math as mt\n",
    "import scipy.stats as st\n",
    "import statistics as sts"
   ]
  },
  {
   "cell_type": "markdown",
   "metadata": {},
   "source": [
    "<b> 1. Blood glucose levels for obese patients have a mean of 100 with a standard deviation of 15. A\n",
    "researcher thinks that a diet high in raw cornstarch will have a positive effect on blood glucose\n",
    "levels. A sample of 36 patients who have tried the raw cornstarch diet have a mean glucose\n",
    "level of 108. Test the hypothesis that the raw cornstarch had an effect or not."
   ]
  },
  {
   "cell_type": "code",
   "execution_count": 7,
   "metadata": {},
   "outputs": [],
   "source": [
    "mean=100\n",
    "std=15\n",
    "sample_mean=108\n",
    "sample_size=36\n",
    "significant_level=0.05"
   ]
  },
  {
   "cell_type": "code",
   "execution_count": 8,
   "metadata": {},
   "outputs": [],
   "source": [
    "#test statistics\n",
    "# H0:μ=100 ==> Null hypothesis = No effect of cornstarch\n",
    "# H1:μ>100 ==> Alternate Hypothesis = There is effect of cornstartch"
   ]
  },
  {
   "cell_type": "code",
   "execution_count": 9,
   "metadata": {},
   "outputs": [
    {
     "data": {
      "text/plain": [
       "3.2"
      ]
     },
     "execution_count": 9,
     "metadata": {},
     "output_type": "execute_result"
    }
   ],
   "source": [
    "#test statistics\n",
    "z=(sample_mean-mean)/(std/mt.sqrt(sample_size))\n",
    "z"
   ]
  },
  {
   "cell_type": "code",
   "execution_count": 10,
   "metadata": {},
   "outputs": [
    {
     "data": {
      "text/plain": [
       "0.9993128620620841"
      ]
     },
     "execution_count": 10,
     "metadata": {},
     "output_type": "execute_result"
    }
   ],
   "source": [
    "#calculating the area under the curve till point 3.2\n",
    "ztable=stats.norm.cdf(z)\n",
    "ztable"
   ]
  },
  {
   "cell_type": "code",
   "execution_count": 11,
   "metadata": {},
   "outputs": [
    {
     "name": "stdout",
     "output_type": "stream",
     "text": [
      "Test Value 0.00069\n",
      "Reject the Null hypothesis i.e. there is raw cornstarch effect\n"
     ]
    }
   ],
   "source": [
    "p_value=1-ztable\n",
    "print(\"Test Value\",round(p_value,5))\n",
    "if p_value < significant_level:\n",
    "    print(\"Reject the Null hypothesis i.e. there is raw cornstarch effect\")\n",
    "else:\n",
    "    print(\"Accept the Null hypothesis i.e. there is no raw cornstarch effect\")"
   ]
  },
  {
   "cell_type": "markdown",
   "metadata": {},
   "source": [
    "<b> 2. In one state, 52% of the voters are Republicans, and 48% are Democrats. In a second state,\n",
    "47% of the voters are Republicans, and 53% are Democrats. Suppose a simple random sample\n",
    "of 100 voters are surveyed from each state.\n",
    "\n",
    "What is the probability that the survey will show a greater percentage of Republican voters in\n",
    "the second state than in the first state?"
   ]
  },
  {
   "cell_type": "code",
   "execution_count": 12,
   "metadata": {},
   "outputs": [],
   "source": [
    "P1=0.52\n",
    "P2=0.47\n",
    "n1=n2=100"
   ]
  },
  {
   "cell_type": "code",
   "execution_count": 13,
   "metadata": {},
   "outputs": [
    {
     "data": {
      "text/plain": [
       "0.050000000000000044"
      ]
     },
     "execution_count": 13,
     "metadata": {},
     "output_type": "execute_result"
    }
   ],
   "source": [
    "#Mean of the difference in sample proportions: \n",
    "Mean= P1 - P2\n",
    "Mean"
   ]
  },
  {
   "cell_type": "code",
   "execution_count": 14,
   "metadata": {},
   "outputs": [
    {
     "data": {
      "text/plain": [
       "0.07061869440877536"
      ]
     },
     "execution_count": 14,
     "metadata": {},
     "output_type": "execute_result"
    }
   ],
   "source": [
    "#Standard deviation of the difference:\n",
    "std=sqrt((P1*(1-P1)/n1)+(P2*(1-P2)/n2))\n",
    "std"
   ]
  },
  {
   "cell_type": "code",
   "execution_count": 15,
   "metadata": {},
   "outputs": [
    {
     "data": {
      "text/plain": [
       "-0.7080278164104213"
      ]
     },
     "execution_count": 15,
     "metadata": {},
     "output_type": "execute_result"
    }
   ],
   "source": [
    "#calculating Z score\n",
    "z_score=(0-Mean)/std\n",
    "z_score"
   ]
  },
  {
   "cell_type": "code",
   "execution_count": 16,
   "metadata": {},
   "outputs": [
    {
     "name": "stdout",
     "output_type": "stream",
     "text": [
      "The probability of survey showing a greater % of Republican voters in the second state than the first state is 0.24\n"
     ]
    }
   ],
   "source": [
    "#calculatiing area under curve till z_score\n",
    "ztable=stats.norm.cdf(z_score)\n",
    "print(\"The probability of survey showing a greater % of Republican voters in the second state than the first state is\",round(ztable,2))"
   ]
  },
  {
   "cell_type": "markdown",
   "metadata": {},
   "source": [
    "<b> 3. You take the SAT and score 1100. The mean score for the SAT is 1026 and the standard\n",
    "deviation is 209. How well did you score on the test compared to the average test taker?\n",
    "    "
   ]
  },
  {
   "cell_type": "code",
   "execution_count": 17,
   "metadata": {},
   "outputs": [
    {
     "name": "stdout",
     "output_type": "stream",
     "text": [
      "I have performed 35.41 % better from mean score and 63.84 % of better than the test taker.\n"
     ]
    }
   ],
   "source": [
    "X=1100\n",
    "mean_score=1026\n",
    "std=209\n",
    "standarderror=0.05\n",
    "\n",
    "# z=(sample_mean-mean)/(std/mt.sqrt(sample_size))\n",
    "z=(X-mean_score)/std\n",
    "\n",
    "# print(\"I have performed better than \",np.round(ztable*100,2),\"% of the average test taker .\")\n",
    "ztable=stats.norm.cdf(z)\n",
    "\n",
    "if(ztable < standarderror):\n",
    "    print(\"I have not performed better than the average test taker.\")\n",
    "else:\n",
    "    print(\"I have performed\",round(z*100,2),\"% better from mean score and\",np.round(ztable*100,2),\"% of better than the test taker.\")"
   ]
  },
  {
   "cell_type": "markdown",
   "metadata": {},
   "source": [
    "##  <center> <b> Task - 2"
   ]
  },
  {
   "cell_type": "markdown",
   "metadata": {},
   "source": [
    "<b> 1. Is gender independent of education level? A random sample of 395 people were surveyed\n",
    "and each person was asked to report the highest education level they obtained. The data that\n",
    "resulted from the survey is summarized in the following table:\n",
    "\n",
    "High School Bachelors Masters Ph.d. Total\n",
    "\n",
    "Female 60 54 46 41 201\n",
    "Male 40 44 53 57 194\n",
    "\n",
    "Total 100 98 99 98 395\n",
    "\n",
    "Question: Are gender and education level dependent at 5% level of significance? In other\n",
    "words, given the data collected above, is there a relationship between the gender of an\n",
    "individual and the level of education that they have obtained?"
   ]
  },
  {
   "cell_type": "code",
   "execution_count": 18,
   "metadata": {},
   "outputs": [
    {
     "name": "stdout",
     "output_type": "stream",
     "text": [
      "Expected Female Values [50.89, 49.87, 50.38, 49.87]\n",
      "Expected Male Values [49.11, 48.13, 48.62, 48.13] \n",
      "\n",
      "Degree Of Freedom 3 \n",
      "\n",
      "Chi-Square (Observed)  8.01\n",
      "Chi-Square Critical (Actual)  7.81 \n",
      "\n",
      "Null Hypothesis Rejected.Eduation Level depends on Gender !!!\n"
     ]
    }
   ],
   "source": [
    "female = [60, 54, 46, 41] \n",
    "male = [40, 44, 53, 57] \n",
    "\n",
    "f_total = 201\n",
    "m_total = 194\n",
    "p_total = 395\n",
    "e_total = [100, 98, 99, 98]\n",
    "significance_level = 0.05\n",
    "length = 4\n",
    "\n",
    "def calc_expected_values(e_total, f_total, p_total): \n",
    "    lst = []\n",
    "    for val in e_total:\n",
    "        lst.append(val*f_total/p_total)\n",
    "    return lst\n",
    "\n",
    "expected_female = calc_expected_values(e_total,f_total,p_total)\n",
    "print(\"Expected Female Values\",list(np.round(expected_female,2)))\n",
    "expected_male = calc_expected_values(e_total,m_total,p_total)\n",
    "print(\"Expected Male Values\",list(np.round(expected_male,2)),'\\n')\n",
    "\n",
    "dof=length-1\n",
    "print(\"Degree Of Freedom\",dof,'\\n')\n",
    "\n",
    "chi_square_observed = st.chisquare((male+female),(expected_male+expected_female)) \n",
    "print(\"Chi-Square (Observed) \",round(chi_square_observed.statistic,2))\n",
    "\n",
    "chi_square = st.chi2.isf(q=significance_level, df=dof)\n",
    "print(\"Chi-Square Critical (Actual) \",round(chi_square,2),'\\n')\n",
    "\n",
    "if chi_square < chi_square_observed.statistic:\n",
    "    print(\"Null Hypothesis Rejected.Eduation Level depends on Gender !!!\")\n",
    "else:\n",
    "    print(\"Alternate Hypothesis Rejected.Eduation Level does not depends on Gender !!! \")"
   ]
  },
  {
   "cell_type": "markdown",
   "metadata": {},
   "source": [
    "<b> 2. Using the following data, perform a oneway analysis of variance using α=.05. Write up the\n",
    "results in APA format.\n",
    "\n",
    "[Group1: 51, 45, 33, 45, 67]\n",
    "[Group2: 23, 43, 23, 43, 45]\n",
    "[Group3: 56, 76, 74, 87, 56]"
   ]
  },
  {
   "cell_type": "code",
   "execution_count": 19,
   "metadata": {},
   "outputs": [
    {
     "name": "stdout",
     "output_type": "stream",
     "text": [
      "F Statistic Value 9.747205503009463, P-value 0.0030597541434430556\n",
      "True\n"
     ]
    }
   ],
   "source": [
    "#step 1. Initialise data\n",
    "Group1 = [51, 45, 33, 45, 67]\n",
    "Group2 = [23, 43, 23, 43, 45]\n",
    "Group3 = [56, 76, 74, 87, 56]\n",
    "\n",
    "#step 2 . Perform 1-way ANOVA test\n",
    "stats, pvalue = stats.f_oneway(Group1,Group2,Group3)\n",
    "\n",
    "#step 3. Print the value and take decision\n",
    "print(\"F Statistic Value {}, P-value {}\".format(stats,pvalue))\n",
    "\n",
    "if pvalue < 0.05:\n",
    "    print('True')\n",
    "else:\n",
    "    print(\"False\")"
   ]
  },
  {
   "cell_type": "markdown",
   "metadata": {},
   "source": [
    "<b> 3. Calculate F Test for given 10, 20, 30, 40, 50 and 5,10,15, 20, 25.\n",
    "For 10, 20, 30, 40, 50:"
   ]
  },
  {
   "cell_type": "code",
   "execution_count": 20,
   "metadata": {},
   "outputs": [
    {
     "name": "stdout",
     "output_type": "stream",
     "text": [
      "Group 1 Mean Value is :30.0, Group 2 Mean Value is :15.0\n",
      "Group 1 Variance Value is :250, Group 2 Variance Value is :62.5\n",
      "F-Test Value 4.0\n",
      "Group 1 Degree of Freedom Value is : 4, Group 2 Degree of Freedom Value is : 4\n",
      "F-Critical value is 6.388232908695868\n",
      "H1 rejected\n"
     ]
    }
   ],
   "source": [
    "Group1 = [10, 20, 30, 40, 50]\n",
    "Group2 = [5,10,15, 20, 25]\n",
    "\n",
    "m1 = np.mean(Group1)\n",
    "m2 = np.mean(Group2)\n",
    "print(\"Group 1 Mean Value is :{}, Group 2 Mean Value is :{}\".format(m1,m2))\n",
    "\n",
    "v1 = sts.variance(Group1)\n",
    "v2 = sts.variance(Group2)\n",
    "print(\"Group 1 Variance Value is :{}, Group 2 Variance Value is :{}\".format(v1,v2))\n",
    "\n",
    "fo = v1/v2\n",
    "print(\"F-Test Value\",fo)\n",
    "\n",
    "df1 = len(Group1)-1\n",
    "df2 = len(Group2)-1\n",
    "print(\"Group 1 Degree of Freedom Value is : {}, Group 2 Degree of Freedom Value is : {}\".format(df1,df2))\n",
    "\n",
    "sl = 0.05\n",
    "\n",
    "fc = st.f.ppf(q=1-sl, dfn=df1, dfd=df2)\n",
    "print(\"F-Critical value is\",fc)\n",
    "\n",
    "if fc < fo:\n",
    "    print(\"H0 rejected\")\n",
    "else:\n",
    "    print(\"H1 rejected\")"
   ]
  }
 ],
 "metadata": {
  "kernelspec": {
   "display_name": "Python 3",
   "language": "python",
   "name": "python3"
  },
  "language_info": {
   "codemirror_mode": {
    "name": "ipython",
    "version": 3
   },
   "file_extension": ".py",
   "mimetype": "text/x-python",
   "name": "python",
   "nbconvert_exporter": "python",
   "pygments_lexer": "ipython3",
   "version": "3.7.0"
  }
 },
 "nbformat": 4,
 "nbformat_minor": 2
}
